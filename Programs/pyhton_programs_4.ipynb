{
 "cells": [
  {
   "cell_type": "markdown",
   "metadata": {},
   "source": [
    "####  1. Write a Python Program to Find the Factorial of a Number?\n"
   ]
  },
  {
   "cell_type": "code",
   "execution_count": 1,
   "metadata": {},
   "outputs": [
    {
     "name": "stdout",
     "output_type": "stream",
     "text": [
      "Enter Number : 15\n",
      "\n",
      " Factorial of 15  is  1307674368000 \n"
     ]
    }
   ],
   "source": [
    "#Take input from user\n",
    "\n",
    "num=int(input(\"Enter Number : \"))\n",
    "\n",
    "# Condition to find a factorial of number\n",
    "\n",
    "if num==0 or num ==1:\n",
    "    print(\"\\n Factorial of {}  is  {} \".format(num,1))\n",
    "else:\n",
    "    fact=1\n",
    "    for i in range(2,num+1):\n",
    "        fact=fact*i\n",
    "    print(\"\\n Factorial of {}  is  {} \".format(num,fact))\n",
    "    "
   ]
  },
  {
   "cell_type": "markdown",
   "metadata": {},
   "source": [
    "####  2. Write a Python Program to Display the multiplication Table?\n"
   ]
  },
  {
   "cell_type": "code",
   "execution_count": 2,
   "metadata": {},
   "outputs": [
    {
     "name": "stdout",
     "output_type": "stream",
     "text": [
      "Enter Number : 45\n",
      "\n",
      " Multiplication Table of 45\n",
      " \n",
      " 45  x  1   =  45 \n",
      " 45  x  2   =  90 \n",
      " 45  x  3   =  135 \n",
      " 45  x  4   =  180 \n",
      " 45  x  5   =  225 \n",
      " 45  x  6   =  270 \n",
      " 45  x  7   =  315 \n",
      " 45  x  8   =  360 \n",
      " 45  x  9   =  405 \n",
      " 45  x  10   =  450 \n"
     ]
    }
   ],
   "source": [
    "#Take input from user\n",
    "\n",
    "num=int(input(\"Enter Number : \"))\n",
    "\n",
    "\n",
    "# Condition to find a factorial of number\n",
    "\n",
    "if num==0:\n",
    "    print(\"Invalid number\")\n",
    "else:\n",
    "    print(\"\\n Multiplication Table of {}\\n \".format(num))\n",
    "    for i in range(1,11):\n",
    "        mul =num*i\n",
    "        print(\" {}  x  {}   =  {} \".format(num,i,mul))\n",
    "   \n",
    "    "
   ]
  },
  {
   "cell_type": "markdown",
   "metadata": {},
   "source": [
    "####  3. Write a Python Program to Print the Fibonacci sequence?\n"
   ]
  },
  {
   "cell_type": "code",
   "execution_count": 3,
   "metadata": {},
   "outputs": [
    {
     "name": "stdout",
     "output_type": "stream",
     "text": [
      "Enter the number of terms in series  : 20\n",
      "0\n",
      "1\n",
      "1\n",
      "2\n",
      "3\n",
      "5\n",
      "8\n",
      "13\n",
      "21\n",
      "34\n",
      "55\n",
      "89\n",
      "144\n",
      "233\n",
      "377\n",
      "610\n",
      "987\n",
      "1597\n",
      "2584\n",
      "4181\n"
     ]
    }
   ],
   "source": [
    "#Take input from user\n",
    "\n",
    "num=int(input(\"Enter the number of terms in series  : \"))\n",
    "\n",
    "\n",
    "# Condition to find a factorial of number\n",
    "\n",
    "t,t1,= 0 ,1\n",
    "\n",
    "for num in range(0, num):\n",
    "    if(num <= 1):\n",
    "        temp = num\n",
    "    else:\n",
    "        temp = t + t1\n",
    "        t = t1\n",
    "        t1= temp\n",
    "    print(temp)"
   ]
  },
  {
   "cell_type": "markdown",
   "metadata": {},
   "source": [
    "####  4. Write a Python Program to Check Armstrong Number?\n"
   ]
  },
  {
   "cell_type": "code",
   "execution_count": 4,
   "metadata": {},
   "outputs": [
    {
     "name": "stdout",
     "output_type": "stream",
     "text": [
      "Enter the number of terms in series  : 10\n",
      "1\n",
      "1\n",
      "\n",
      "10 is not an Armstrong  number\n"
     ]
    }
   ],
   "source": [
    "#Take input from user\n",
    "\n",
    "num=int(input(\"Enter the number of terms in series  : \"))\n",
    "\n",
    "#Spliting num into digit\n",
    "\n",
    "digit = [int(a) for a in str(num)]\n",
    "\n",
    "\n",
    "#Initialization\n",
    "\n",
    "power = len(digit)\n",
    "sum=0\n",
    "\n",
    "#Check Conditions for an armstrong number\n",
    "\n",
    "for i in digit:\n",
    "        sum=sum+i**power\n",
    "        print(sum)\n",
    "        \n",
    "if sum==num:\n",
    "    print(\"\\n{} is an Armstrong  number\".format(num))\n",
    "else:\n",
    "    print(\"\\n{} is not an Armstrong  number\".format(num))\n",
    "    "
   ]
  },
  {
   "cell_type": "markdown",
   "metadata": {},
   "source": [
    "####  5. Write a Python Program to Find Armstrong Number in an Interval?\n"
   ]
  },
  {
   "cell_type": "code",
   "execution_count": 5,
   "metadata": {},
   "outputs": [
    {
     "name": "stdout",
     "output_type": "stream",
     "text": [
      "Enter the lower range: 100\n",
      "Enter the upper range: 15000\n",
      "153\n",
      "370\n",
      "371\n",
      "407\n",
      "1634\n",
      "8208\n",
      "9474\n"
     ]
    }
   ],
   "source": [
    "#Take input from user\n",
    "\n",
    "lower = int(input(\"Enter the lower range: \"))\n",
    "upper= int(input(\"Enter the upper range: \"))\n",
    "\n",
    "for num in range(lower,upper+1):\n",
    "    digit = [int(a) for a in str(num)]                                                                      #Spliting num into digit\n",
    "    power = len(digit)                                                                                            #Initialization\n",
    "    sum=0\n",
    "    \n",
    "#Check Conditions for an armstrong number\n",
    "    \n",
    "    for i in digit:\n",
    "            sum=sum+i**power      \n",
    "    if sum==num:\n",
    "        print(num)   \n",
    "                                                                                                                                    \n",
    "\n",
    "\n",
    "\n",
    "\n",
    "\n",
    "\n"
   ]
  },
  {
   "cell_type": "markdown",
   "metadata": {},
   "source": [
    "####  6. Write a Python Program to Find the Sum of Natural Numbers?"
   ]
  },
  {
   "cell_type": "code",
   "execution_count": 6,
   "metadata": {},
   "outputs": [
    {
     "name": "stdout",
     "output_type": "stream",
     "text": [
      "Enter the lower range: -69\n",
      "Enter the upper range: 55\n",
      "sum of natural numbers between -69  to  55  is  = 1540 \n"
     ]
    }
   ],
   "source": [
    "#Take input from user\n",
    "\n",
    "lower = int(input(\"Enter the lower range: \"))\n",
    "upper= int(input(\"Enter the upper range: \"))\n",
    "sum=0\n",
    "\n",
    "if upper<1:\n",
    "    print(\"Invalid\")\n",
    "    \n",
    "elif lower<1:\n",
    "    for num in range(1,upper+1):\n",
    "        sum=sum+ num\n",
    "    print(\"sum of natural numbers between {}  to  {}  is  = {} \" .format(lower,upper,sum))\n",
    "    \n",
    "else:\n",
    "    for num in range(lower,upper+1):\n",
    "        sum=sum+ num\n",
    "    print(\"sum of natural numbers between {}  to  {}  is  = {} \" .format(lower,upper,sum))\n",
    "    "
   ]
  }
 ],
 "metadata": {
  "kernelspec": {
   "display_name": "Python 3",
   "language": "python",
   "name": "python3"
  },
  "language_info": {
   "codemirror_mode": {
    "name": "ipython",
    "version": 3
   },
   "file_extension": ".py",
   "mimetype": "text/x-python",
   "name": "python",
   "nbconvert_exporter": "python",
   "pygments_lexer": "ipython3",
   "version": "3.8.3"
  }
 },
 "nbformat": 4,
 "nbformat_minor": 4
}
