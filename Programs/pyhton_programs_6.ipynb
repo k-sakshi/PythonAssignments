{
 "cells": [
  {
   "cell_type": "markdown",
   "metadata": {},
   "source": [
    "### Programming Part - 6"
   ]
  },
  {
   "cell_type": "markdown",
   "metadata": {},
   "source": [
    "#### 1. Write a Python Program to Display Fibonacci Sequence Using Recursion?"
   ]
  },
  {
   "cell_type": "code",
   "execution_count": 2,
   "metadata": {},
   "outputs": [
    {
     "name": "stdout",
     "output_type": "stream",
     "text": [
      "Enter number: 15\n",
      "0\n",
      "1\n",
      "1\n",
      "2\n",
      "3\n",
      "5\n",
      "8\n",
      "13\n",
      "21\n",
      "34\n",
      "55\n",
      "89\n",
      "144\n",
      "233\n",
      "377\n",
      "610\n"
     ]
    }
   ],
   "source": [
    "#define function\n",
    "\n",
    "def fib(n):\n",
    "    if n<=1:\n",
    "        return n\n",
    "    else:\n",
    "        return fib(n-1)+fib(n-2)\n",
    "\n",
    "#take input\n",
    "\n",
    "num=int(input(\"Enter number: \"))\n",
    "\n",
    "#call recursive function\n",
    "if num<=1:\n",
    "    print(\"Enter positive number\")\n",
    "for i in range(num+1):\n",
    "    print(fib(i))"
   ]
  },
  {
   "cell_type": "markdown",
   "metadata": {},
   "source": [
    "#### 2. Write a Python Program to Find Factorial of Number Using Recursion?\n"
   ]
  },
  {
   "cell_type": "code",
   "execution_count": 3,
   "metadata": {},
   "outputs": [
    {
     "name": "stdout",
     "output_type": "stream",
     "text": [
      "Enter number: 12\n",
      "The factorial of  12 is : 479001600 \n"
     ]
    }
   ],
   "source": [
    "#define function\n",
    "\n",
    "def fact(n):\n",
    "    if n<=1:\n",
    "        return 1\n",
    "    else:\n",
    "        return n*fact(n-1)\n",
    "\n",
    "#take input\n",
    "\n",
    "num=int(input(\"Enter number: \"))\n",
    "\n",
    "#call recursive function\n",
    "fact=fact(num)\n",
    "\n",
    "#disply Result \n",
    "\n",
    "print(\"The factorial of  {} is : {} \".format(num,fact))"
   ]
  },
  {
   "cell_type": "markdown",
   "metadata": {},
   "source": [
    "#### 3. Write a Python Program to calculate your Body Mass Index?\n"
   ]
  },
  {
   "cell_type": "code",
   "execution_count": 5,
   "metadata": {},
   "outputs": [
    {
     "name": "stdout",
     "output_type": "stream",
     "text": [
      "Enter weight in kg : 75\n",
      "Enter height in meter  : 1.74\n",
      "The BMI is : 24.772096710265558 \n"
     ]
    }
   ],
   "source": [
    "\n",
    "#take input\n",
    "\n",
    "weight =float(input(\"Enter weight in kg : \"))\n",
    "height =float(input(\"Enter height in meter  : \"))\n",
    "\n",
    "#condition\n",
    "\n",
    "BMI=weight/(height*height)\n",
    "\n",
    "  \n",
    "#Display result\n",
    "\n",
    "print(\"The BMI is : {} \".format(BMI))"
   ]
  },
  {
   "cell_type": "markdown",
   "metadata": {},
   "source": [
    "#### 4. Write a Python Program to calculate the natural logarithm of any number?\n"
   ]
  },
  {
   "cell_type": "code",
   "execution_count": 6,
   "metadata": {},
   "outputs": [
    {
     "name": "stdout",
     "output_type": "stream",
     "text": [
      "Enter number: 7596\n",
      "The natural log of 7596 is : 8.935377071932177 \n"
     ]
    }
   ],
   "source": [
    "import math\n",
    "\n",
    "#take input\n",
    "\n",
    "num=int(input(\"Enter number: \"))\n",
    "\n",
    "\n",
    "#condition\n",
    "\n",
    "log =math.log(num)\n",
    "    \n",
    "#Display result\n",
    "\n",
    "print(\"The natural log of {} is : {} \".format(num,log))"
   ]
  },
  {
   "cell_type": "markdown",
   "metadata": {},
   "source": [
    "#### 5. Write a Python Program for cube sum of first n natural numbers?"
   ]
  },
  {
   "cell_type": "code",
   "execution_count": 7,
   "metadata": {},
   "outputs": [
    {
     "name": "stdout",
     "output_type": "stream",
     "text": [
      "Enter number of natural numbers: 10\n",
      "The sum of cubes  of first 10 natural numbers is : 3025.0 \n"
     ]
    }
   ],
   "source": [
    "import math\n",
    "\n",
    "#take input\n",
    "\n",
    "num=int(input(\"Enter number of natural numbers: \"))\n",
    "sum=1\n",
    "\n",
    "#condition\n",
    "\n",
    "for i in range(2,num+1):\n",
    "    sum=sum+math.pow(i,3)\n",
    "    \n",
    "#Display result\n",
    "\n",
    "print(\"The sum of cubes  of first {} natural numbers is : {} \".format(num,sum))"
   ]
  }
 ],
 "metadata": {
  "kernelspec": {
   "display_name": "Python 3",
   "language": "python",
   "name": "python3"
  },
  "language_info": {
   "codemirror_mode": {
    "name": "ipython",
    "version": 3
   },
   "file_extension": ".py",
   "mimetype": "text/x-python",
   "name": "python",
   "nbconvert_exporter": "python",
   "pygments_lexer": "ipython3",
   "version": "3.8.3"
  }
 },
 "nbformat": 4,
 "nbformat_minor": 4
}
