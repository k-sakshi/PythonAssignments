{
 "cells": [
  {
   "cell_type": "markdown",
   "metadata": {},
   "source": [
    "#### 1. Write a Python Program to Find LCM?\n"
   ]
  },
  {
   "cell_type": "code",
   "execution_count": 1,
   "metadata": {},
   "outputs": [
    {
     "name": "stdout",
     "output_type": "stream",
     "text": [
      "Enter first number:-55\n",
      "Enter second number:-60\n",
      "The LCM of 55 and 60 is 660 \n"
     ]
    }
   ],
   "source": [
    "# take input\n",
    "\n",
    "num1 =int(input(\"Enter first number:-\"))\n",
    "num2 =int(input(\"Enter second number:-\"))\n",
    "\n",
    "num =max(num1,num2)\n",
    "\n",
    "# Condition\n",
    "\n",
    "while (True):\n",
    "    \n",
    "    if(num % num1 == 0 and num %num2 == 0):\n",
    "        lcm=num\n",
    "        break\n",
    "              \n",
    "    num = num +1\n",
    " # Display output    \n",
    "print(\"The LCM of {} and {} is {} \".format(num1,num2,num))        "
   ]
  },
  {
   "cell_type": "markdown",
   "metadata": {},
   "source": [
    "#### 2. Write a Python Program to Find HCF?\n"
   ]
  },
  {
   "cell_type": "code",
   "execution_count": 2,
   "metadata": {},
   "outputs": [
    {
     "name": "stdout",
     "output_type": "stream",
     "text": [
      "Enter first number:-18\n",
      "Enter second number:-12\n",
      "The HCF of 18 and 12 is 6 \n"
     ]
    }
   ],
   "source": [
    "# take input\n",
    "\n",
    "num1 =int(input(\"Enter first number:-\"))\n",
    "num2 =int(input(\"Enter second number:-\"))\n",
    "\n",
    "num =min(num1,num2)\n",
    "\n",
    "# Condition\n",
    "\n",
    "for i in range(1,num+1):\n",
    "    if(num1 % i == 0 and num2 % i == 0):                                       \n",
    "               hcf=i \n",
    "\n",
    " # Display output\n",
    "\n",
    "print(\"The HCF of {} and {} is {} \".format(num1,num2,hcf))\n",
    "            "
   ]
  },
  {
   "cell_type": "markdown",
   "metadata": {},
   "source": [
    "#### 3. Write a Python Program to Convert Decimal to Binary, Octal and Hexadecimal?\n"
   ]
  },
  {
   "cell_type": "code",
   "execution_count": 4,
   "metadata": {},
   "outputs": [
    {
     "name": "stdout",
     "output_type": "stream",
     "text": [
      "Enter decimal number:-63\n",
      "Conversion of 63 \n",
      "Binary ->  0b111111\n",
      "Octal ->  0o77\n",
      "Hexadecimal  ->  0x3f\n"
     ]
    }
   ],
   "source": [
    "# take input\n",
    "\n",
    "num =int(input(\"Enter decimal number:-\"))\n",
    "\n",
    "print(\"Conversion of {} \".format(num))\n",
    "print(\"Binary -> \",bin(num))\n",
    "print(\"Octal -> \",oct(num))\n",
    "print(\"Hexadecimal  -> \",hex(num))"
   ]
  },
  {
   "cell_type": "markdown",
   "metadata": {},
   "source": [
    "#### 4. Write a Python Program To Find ASCII value of a character?\n"
   ]
  },
  {
   "cell_type": "code",
   "execution_count": 5,
   "metadata": {},
   "outputs": [
    {
     "name": "stdout",
     "output_type": "stream",
     "text": [
      "Enter Character :-*\n",
      "ASCII Value of \"*\" is 42 \n"
     ]
    }
   ],
   "source": [
    "# take input\n",
    "\n",
    "char =input(\"Enter Character :-\")\n",
    "\n",
    "# Display Result\n",
    "\n",
    "print('''ASCII Value of \"{}\" is {} '''.format(char,ord(char)))"
   ]
  },
  {
   "cell_type": "markdown",
   "metadata": {},
   "source": [
    "#### 5. Write a Python Program to Make a Simple Calculator with 4 basic mathematical operations?"
   ]
  },
  {
   "cell_type": "code",
   "execution_count": 6,
   "metadata": {},
   "outputs": [
    {
     "name": "stdout",
     "output_type": "stream",
     "text": [
      "Enter first number:-11\n",
      "Enter second number:-15\n",
      "Choose Option\n",
      "1 .Add\n",
      "2. Substract \n",
      "3. Multiply \n",
      "4. Divide\n",
      "5. Exit\n",
      "1\n",
      "11 + 15 = 26\n",
      "Enter first number:-15\n",
      "Enter second number:-16\n",
      "Choose Option\n",
      "1 .Add\n",
      "2. Substract \n",
      "3. Multiply \n",
      "4. Divide\n",
      "5. Exit\n",
      "3\n",
      "15 * 16 = 240\n",
      "Enter first number:-55\n",
      "Enter second number:-65\n",
      "Choose Option\n",
      "1 .Add\n",
      "2. Substract \n",
      "3. Multiply \n",
      "4. Divide\n",
      "5. Exit\n",
      "4\n",
      "55 / 65 = 0.8461538461538461\n",
      "Enter first number:-59\n",
      "Enter second number:-48\n",
      "Choose Option\n",
      "1 .Add\n",
      "2. Substract \n",
      "3. Multiply \n",
      "4. Divide\n",
      "5. Exit\n",
      "8\n",
      "Choose Correct Option \n",
      "Enter first number:-48\n",
      "Enter second number:-78\n",
      "Choose Option\n",
      "1 .Add\n",
      "2. Substract \n",
      "3. Multiply \n",
      "4. Divide\n",
      "5. Exit\n",
      "2\n",
      "48 - 78 = -30\n",
      "Enter first number:-45\n",
      "Enter second number:-98\n",
      "Choose Option\n",
      "1 .Add\n",
      "2. Substract \n",
      "3. Multiply \n",
      "4. Divide\n",
      "5. Exit\n",
      "5\n",
      "Thank you for using simple Calculator\n"
     ]
    }
   ],
   "source": [
    "while True:\n",
    "\n",
    "# take input\n",
    "    num1 =int(input(\"Enter first number:-\"))\n",
    "    num2 =int(input(\"Enter second number:-\"))\n",
    "\n",
    "    print(\"Choose Option\")\n",
    "\n",
    "    print(\"1 .Add\")\n",
    "    print(\"2. Substract \")\n",
    "    print(\"3. Multiply \")\n",
    "    print(\"4. Divide\")\n",
    "    print(\"5. Exit\")\n",
    "\n",
    "    option =int(input())\n",
    "\n",
    "    if option==1:\n",
    "        print(\"{} + {} = {}\".format(num1,num2,num1+num2))\n",
    "    elif option==2:\n",
    "        print(\"{} - {} = {}\".format(num1,num2,num1 -num2))\n",
    "    elif option==3:\n",
    "        print(\"{} * {} = {}\".format(num1,num2,num1*num2))\n",
    "    elif option==4:\n",
    "        print(\"{} / {} = {}\".format(num1,num2,num1/num2))\n",
    "    elif option==5:\n",
    "        print(\"Thank you for using simple Calculator\")\n",
    "        break\n",
    "    else:\n",
    "        print(\"Choose Correct Option \")\n",
    "        continue"
   ]
  },
  {
   "cell_type": "code",
   "execution_count": null,
   "metadata": {},
   "outputs": [],
   "source": []
  }
 ],
 "metadata": {
  "kernelspec": {
   "display_name": "Python 3",
   "language": "python",
   "name": "python3"
  },
  "language_info": {
   "codemirror_mode": {
    "name": "ipython",
    "version": 3
   },
   "file_extension": ".py",
   "mimetype": "text/x-python",
   "name": "python",
   "nbconvert_exporter": "python",
   "pygments_lexer": "ipython3",
   "version": "3.8.3"
  }
 },
 "nbformat": 4,
 "nbformat_minor": 4
}
