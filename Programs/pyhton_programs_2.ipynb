{
 "cells": [
  {
   "cell_type": "markdown",
   "metadata": {},
   "source": [
    "### 1.Write a Python program to convert kilometers to miles?\n"
   ]
  },
  {
   "cell_type": "code",
   "execution_count": 1,
   "metadata": {},
   "outputs": [
    {
     "name": "stdout",
     "output_type": "stream",
     "text": [
      "Enter Kilometers:16\n",
      "\n",
      " 16 Kilometer = 9.92 Miles \n"
     ]
    }
   ],
   "source": [
    "# Taking input from user:\n",
    "\n",
    "kms = int(input(\"Enter Kilometers:\"))\n",
    "\n",
    "# Calculating\n",
    "\n",
    "mile =kms *0.62\n",
    "\n",
    "# Display \n",
    "\n",
    "print(\"\\n {} Kilometer = {} Miles \".format(kms,mile))"
   ]
  },
  {
   "cell_type": "markdown",
   "metadata": {},
   "source": [
    "### 2. Write a Python program to convert Celsius to Fahrenheit?"
   ]
  },
  {
   "cell_type": "code",
   "execution_count": 2,
   "metadata": {},
   "outputs": [
    {
     "name": "stdout",
     "output_type": "stream",
     "text": [
      "Enter temperature in degree celcious : 46\n",
      "\n",
      " 46 Celsius  = 114.8 Fahrenheit   \n"
     ]
    }
   ],
   "source": [
    "# Taking input from user:\n",
    "\n",
    "cels = int(input(\"Enter temperature in degree celcious : \"))\n",
    "\n",
    "# calulating\n",
    "\n",
    "far = 1.8 * cels +32\n",
    "\n",
    "#display\n",
    "\n",
    "print(\"\\n {} Celsius  = {} Fahrenheit   \".format(cels,far))"
   ]
  },
  {
   "cell_type": "markdown",
   "metadata": {},
   "source": [
    "### 3.Write a Python program to display calendar?"
   ]
  },
  {
   "cell_type": "code",
   "execution_count": 3,
   "metadata": {},
   "outputs": [
    {
     "name": "stdout",
     "output_type": "stream",
     "text": [
      "Enter year : 2022\n",
      "Enter month :- 5\n",
      "      May 2022\n",
      "Mo Tu We Th Fr Sa Su\n",
      "                   1\n",
      " 2  3  4  5  6  7  8\n",
      " 9 10 11 12 13 14 15\n",
      "16 17 18 19 20 21 22\n",
      "23 24 25 26 27 28 29\n",
      "30 31\n",
      "\n"
     ]
    }
   ],
   "source": [
    "import calendar as cal\n",
    "\n",
    "year = int(input(\"Enter year : \"))\n",
    "\n",
    "month= int(input(\"Enter month :- \"))\n",
    "\n",
    "print(cal.month(year,month))"
   ]
  },
  {
   "cell_type": "markdown",
   "metadata": {},
   "source": [
    "### 4. Write a Python program to solve quadratic equation?\n"
   ]
  },
  {
   "cell_type": "code",
   "execution_count": 4,
   "metadata": {},
   "outputs": [
    {
     "name": "stdout",
     "output_type": "stream",
     "text": [
      "Enter coefficient for degree 2 :1\n",
      "Enter coefficient for degree 1 :-6\n",
      "Enter coefficient for degree 0 :2\n",
      "\n",
      "The roots are : \n",
      " (0.3542486889354093+0j) \n",
      " (5.645751311064591+0j)\n"
     ]
    }
   ],
   "source": [
    "import cmath\n",
    "\n",
    "# Taking input from user:\n",
    "\n",
    "a =int(input(\"Enter coefficient for degree 2 :\"))\n",
    "b =int(input(\"Enter coefficient for degree 1 :\"))\n",
    "c =int(input(\"Enter coefficient for degree 0 :\"))\n",
    "\n",
    "\n",
    "# calculate the discriminant\n",
    "d = (b**2) - (4*a*c)\n",
    "\n",
    "# find two roots\n",
    "root1 = (-b-cmath.sqrt(d))/(2*a)\n",
    "root2 = (-b+cmath.sqrt(d))/(2*a)\n",
    "\n",
    "#Display\n",
    "\n",
    "print('\\nThe roots are : \\n {} \\n {}'.format(root1,root2))\n"
   ]
  },
  {
   "cell_type": "markdown",
   "metadata": {},
   "source": [
    "### 5. Write a Python program to swap two variables without temp variable?"
   ]
  },
  {
   "cell_type": "code",
   "execution_count": 5,
   "metadata": {},
   "outputs": [
    {
     "name": "stdout",
     "output_type": "stream",
     "text": [
      "Enter num1 :72\n",
      "Enter num2 :65\n",
      "num1 : 65\n",
      "num2 : 72\n"
     ]
    }
   ],
   "source": [
    "# Taking input from user:\n",
    "\n",
    "num1 =int(input(\"Enter num1 :\"))\n",
    "num2 =int(input(\"Enter num2 :\"))\n",
    "\n",
    "num1, num2 = num2, num1\n",
    "\n",
    "print(\"num1 :\",num1)\n",
    "print(\"num2 :\",num2)\n"
   ]
  }
 ],
 "metadata": {
  "kernelspec": {
   "display_name": "Python 3",
   "language": "python",
   "name": "python3"
  },
  "language_info": {
   "codemirror_mode": {
    "name": "ipython",
    "version": 3
   },
   "file_extension": ".py",
   "mimetype": "text/x-python",
   "name": "python",
   "nbconvert_exporter": "python",
   "pygments_lexer": "ipython3",
   "version": "3.8.3"
  }
 },
 "nbformat": 4,
 "nbformat_minor": 4
}
