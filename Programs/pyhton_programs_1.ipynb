{
 "cells": [
  {
   "cell_type": "markdown",
   "metadata": {},
   "source": [
    "### 1. Write a Python program to print \"Hello Python\"?\n"
   ]
  },
  {
   "cell_type": "code",
   "execution_count": 1,
   "metadata": {},
   "outputs": [
    {
     "name": "stdout",
     "output_type": "stream",
     "text": [
      "Hello Python\n"
     ]
    }
   ],
   "source": [
    "print(\"Hello Python\")"
   ]
  },
  {
   "cell_type": "markdown",
   "metadata": {},
   "source": [
    "### 2. Write a Python program to do arithmetical operations addition and division.?\n"
   ]
  },
  {
   "cell_type": "code",
   "execution_count": 2,
   "metadata": {},
   "outputs": [
    {
     "name": "stdout",
     "output_type": "stream",
     "text": [
      "Enter first number15\n",
      "\n",
      "Enter second number69\n",
      "\n",
      "Addition of number is :  84\n",
      "\n",
      "Division of number is :  4.6\n"
     ]
    }
   ],
   "source": [
    "# Taking input from user:\n",
    "\n",
    "a = int(input(\"Enter first number\"))\n",
    "b= int(input(\"\\nEnter second number\"))\n",
    "\n",
    "# Addition \n",
    "\n",
    "print(\"\\nAddition of number is : \" ,a+b)\n",
    "\n",
    "\n",
    "#Division\n",
    "\n",
    "if a==0:\n",
    "    print(\"\\nDivision of number is : 0 \")\n",
    "elif b==0:\n",
    "    print(\"\\nDivision of number is invalid ! \")\n",
    "elif a>b:\n",
    "    print(\"\\nDivision of number is : \",a/b)\n",
    "else:\n",
    "    print(\"\\nDivision of number is : \",b/a)"
   ]
  },
  {
   "cell_type": "markdown",
   "metadata": {},
   "source": [
    "### 3. Write a Python program to find the area of a triangle?\n"
   ]
  },
  {
   "cell_type": "code",
   "execution_count": 3,
   "metadata": {},
   "outputs": [
    {
     "name": "stdout",
     "output_type": "stream",
     "text": [
      "Enter the base of Triangle : 9\n",
      "\n",
      "Enter the base of height : 4\n",
      "\n",
      "Area of Triangle = 18.0 sq unit\n"
     ]
    }
   ],
   "source": [
    "base=int(input(\"Enter the base of Triangle : \"))\n",
    "height =int(input(\"\\nEnter the base of height : \"))\n",
    "area =0.5*base*height\n",
    "print(\"\\nArea of Triangle = {} sq unit\".format(area))"
   ]
  },
  {
   "cell_type": "markdown",
   "metadata": {},
   "source": [
    "### 4. Write a Python program to swap two variables?\n"
   ]
  },
  {
   "cell_type": "code",
   "execution_count": 4,
   "metadata": {},
   "outputs": [
    {
     "name": "stdout",
     "output_type": "stream",
     "text": [
      "Enter num1 :45\n",
      "Enter num2 :98\n",
      "Swapping with Method 1\n",
      "num1 : 98\n",
      "num2 : 45\n",
      "Swapping with Method 2\n",
      "num1 : 45\n",
      "num2 : 98\n"
     ]
    }
   ],
   "source": [
    "# Taking input from user:\n",
    "\n",
    "num1 =int(input(\"Enter num1 :\"))\n",
    "num2 =int(input(\"Enter num2 :\"))\n",
    "\n",
    "\n",
    "# Method1 with using third variable:\n",
    "\n",
    "print(\"Swapping with Method 1\")\n",
    "\n",
    "temp =num1\n",
    "num1=num2\n",
    "num2=temp\n",
    "\n",
    "print(\"num1 :\",num1)\n",
    "print(\"num2 :\",num2)\n",
    "\n",
    "#Method2 :Using assignment operator\n",
    "\n",
    "print(\"Swapping with Method 2\")\n",
    "\n",
    "num1, num2 = num2, num1\n",
    "\n",
    "print(\"num1 :\",num1)\n",
    "print(\"num2 :\",num2)\n"
   ]
  },
  {
   "cell_type": "markdown",
   "metadata": {},
   "source": [
    "### 5. Write a Python program to generate a random number?"
   ]
  },
  {
   "cell_type": "code",
   "execution_count": 5,
   "metadata": {},
   "outputs": [
    {
     "data": {
      "text/plain": [
       "0.11991742532014937"
      ]
     },
     "execution_count": 5,
     "metadata": {},
     "output_type": "execute_result"
    }
   ],
   "source": [
    "import random\n",
    "\n",
    "random.random()"
   ]
  }
 ],
 "metadata": {
  "kernelspec": {
   "display_name": "Python 3",
   "language": "python",
   "name": "python3"
  },
  "language_info": {
   "codemirror_mode": {
    "name": "ipython",
    "version": 3
   },
   "file_extension": ".py",
   "mimetype": "text/x-python",
   "name": "python",
   "nbconvert_exporter": "python",
   "pygments_lexer": "ipython3",
   "version": "3.8.3"
  }
 },
 "nbformat": 4,
 "nbformat_minor": 4
}
