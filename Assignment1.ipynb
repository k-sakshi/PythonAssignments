{
 "cells": [
  {
   "cell_type": "markdown",
   "metadata": {},
   "source": [
    "##                                                    PYTHON ASSIGNMENT"
   ]
  },
  {
   "cell_type": "markdown",
   "metadata": {},
   "source": [
    "#### 1. In the below elements which of them are values or an expression? eg:- values can be integer or string and expressions will be mathematical operators. \n",
    "\n",
    "#### a)* b)'hello' c) -87.8 d) - e) / f) + g) 6 \n",
    "\n",
    "\n",
    "Ans:- \n",
    "\n",
    "Expressions : *, / , - , +\n",
    "Value : 'hello' ,-87.8 , 6\n",
    "\n"
   ]
  },
  {
   "cell_type": "markdown",
   "metadata": {},
   "source": [
    "#### 2. What is the difference between string and variable?\n",
    "Ans:- \n",
    "\n",
    "1]String is collection of characters and can be value for a variable.\n",
    "2]Variable is name given to the memmory location occupied or reserved or allocated for certain value. value of variable can be numerical ,string,charecter,Boolean etc.\n"
   ]
  },
  {
   "cell_type": "markdown",
   "metadata": {},
   "source": [
    "#### 3. Describe three different data types.\n",
    "\n",
    "Ans:\n",
    "Three basic data type:\n",
    "    1] Numerical - which consist of numbers which can be integer,floating-points and complex numbers as well\n",
    "    2] String:- This is a data type having a collection of charechters and special symbols. string can be a single character or group of charechters\n",
    "    3] Booleans : This data type are having value of True and False i.e 1 and 0 respectively.\n",
    "\n"
   ]
  },
  {
   "cell_type": "markdown",
   "metadata": {},
   "source": [
    "#### 4. What is an expression made up of? What do all expressions do?\n",
    "\n",
    "Ans:\n",
    "\n",
    "An expression is represeting or calculating  a value using operators and symbols .\n",
    "it calculates a value by using diffrent mathematical symbols like +,-,>,/,* (,<,) etc\n"
   ]
  },
  {
   "cell_type": "markdown",
   "metadata": {},
   "source": [
    "#### 5. This assignment statements, like spam = 10. What is the difference between an expression and a statement?\n",
    "\n",
    "Ans: \n",
    "An expression is represeting or calculating  a value using operators and symbols .\n",
    "A statement is a instruction given in programming language,\n",
    "here in spam =10 we are allocation memmory to variable spam and assaning value 10.\n"
   ]
  },
  {
   "cell_type": "markdown",
   "metadata": {},
   "source": [
    "#### 6. After running the following code, what does the variable bacon contain?\n",
    "#### bacon = 22\n",
    "#### bacon + 1\n",
    "\n",
    "Ans: variable bacon contain 22 as we are not assigning any new or updating value for variable bacon.Here we simply running an expression in 2nd line\n",
    "\n"
   ]
  },
  {
   "cell_type": "markdown",
   "metadata": {},
   "source": [
    "#### 7. What should the values of the following two terms be? 'spam' + 'spamspam' and spam' * 3 \n",
    "\n",
    "Ans:- \n",
    "\n",
    "'spam' + 'spamspam' :--  spamspamspam\n",
    "spam' * 3 :--    spamspamspam"
   ]
  },
  {
   "cell_type": "markdown",
   "metadata": {},
   "source": [
    "#### 8. Why is eggs a valid variable name while 100 is invalid?\n",
    "\n",
    "Ans:- \n",
    "variable name can consist alphanumeric values and one special symbol underscore(_).\n",
    "Variable name can be start with alphabate and underscore but not with numbers \n",
    "hence , eggs is a valid variable while 100 is invalid.\n"
   ]
  },
  {
   "cell_type": "markdown",
   "metadata": {},
   "source": [
    "#### 9. What three functions can be used to get the integer, floating-point number, or string version of a value?\n",
    "Ans:- \n",
    "    \n",
    "To get of value in different datatypes we use:\n",
    "integer --> int()\n",
    "floating-point --> float()\n",
    "string --> str()\n",
    "float(100)"
   ]
  },
  {
   "cell_type": "markdown",
   "metadata": {},
   "source": [
    "#### 10. Why does this expression cause an error? How can you fix it? : print('I have eaten ' + 99 + ' burritos.')\n",
    "\n",
    "Ans: \n",
    "String can be concanitaed with only string not with integer .\n",
    "Here we are trying to concatinate 99 which is an integer value with two strings. \n",
    "To fix this error we have to convert value 99 in string data type with str() function  \n",
    "\n"
   ]
  }
 ],
 "metadata": {
  "kernelspec": {
   "display_name": "Python 3",
   "language": "python",
   "name": "python3"
  },
  "language_info": {
   "codemirror_mode": {
    "name": "ipython",
    "version": 3
   },
   "file_extension": ".py",
   "mimetype": "text/x-python",
   "name": "python",
   "nbconvert_exporter": "python",
   "pygments_lexer": "ipython3",
   "version": "3.8.3"
  }
 },
 "nbformat": 4,
 "nbformat_minor": 4
}
