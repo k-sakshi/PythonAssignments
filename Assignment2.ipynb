{
 "cells": [
  {
   "cell_type": "markdown",
   "metadata": {},
   "source": [
    "## Python Assignment"
   ]
  },
  {
   "cell_type": "markdown",
   "metadata": {},
   "source": [
    "#### 1.What are the two values of the Boolean data type? How do you write them?\n",
    "\n",
    "Ans: \n",
    "Two values of boolean data types is True i.e 1 and False i.e. 0.we can write variable with boolean data type as follows:\n",
    "\n",
    "a = True\n",
    "b = False"
   ]
  },
  {
   "cell_type": "markdown",
   "metadata": {},
   "source": [
    "#### 2. What are the three different types of Boolean operators?\n",
    "\n",
    "Ans:   Three types of boolean operators are:\n",
    "1] and: if both operands are of value True then it gives value True\n",
    "2] or : if any of the operands are of value true it gives value True\n",
    "3] not : it gives opposite value of operand."
   ]
  },
  {
   "cell_type": "markdown",
   "metadata": {},
   "source": [
    "#### 3. Make a list of each Boolean operators truth tables (i.e. every possible combination of Boolean values for the operator and what it evaluate ).\n",
    "\n",
    "Ans:-\n",
    "\n",
    "1] and operator:\n",
    "\n",
    "###### opr1        opr2        Result\n",
    "\n",
    "###### True       True       True\n",
    "###### True       False       False\n",
    "###### False      True        False\n",
    "###### False       False      False\n",
    "\n",
    "2] or operator:\n",
    "\n",
    "###### opr1        opr2        Result\n",
    "\n",
    "###### True       True         True\n",
    "###### True        False       True\n",
    "###### False       True        True\n",
    "###### False       False        False\n",
    "\n",
    "3] not operator:\n",
    "\n",
    "###### opr        Result\n",
    "\n",
    "###### True       False\n",
    "###### False      True        \n"
   ]
  },
  {
   "cell_type": "markdown",
   "metadata": {},
   "source": [
    "#### 4. What are the values of the following expressions?1\n",
    "Ans:-\n",
    "1] (5 > 4) and (3 == 5) ---> False\n",
    "2](5 > 4) or (3 == 5) --->  True\n",
    "3] not ((5 > 4) or (3 == 5)) --->False\n",
    "4](True and True) and (True == False) --->False\n",
    "5] (not False) or (not True) ---> True\n",
    "6]not (5 > 4) ---> False"
   ]
  },
  {
   "cell_type": "markdown",
   "metadata": {},
   "source": [
    "\n",
    "#### 5. What are the six comparison operators?\n",
    "\n",
    "Ans:- Comparison Operators are: \n",
    "    \n",
    "1]  greater than : >\n",
    "2] less than : <\n",
    "3] equal to : ==\n",
    "4] not equal to : !=\n",
    "5] greater than or equal to : >=\n",
    "6] less than or equal to : <=\n",
    "\n"
   ]
  },
  {
   "cell_type": "markdown",
   "metadata": {},
   "source": [
    "#### 6. How do you tell the difference between the equal to and assignment operators?Describe a condition and when you would use one.\n",
    "\n",
    "Ans:\n",
    "\n",
    "1] Equal to symbol '==' is conditional operator that compares LHS to RHS \n",
    "for ex.: two variables are given i.e. num1 and num2.to find out wether they are equal or not we can use equal to operator:\n",
    "num1 == num2\n",
    "\n",
    "2] assignment symbol '=' is used to assign LHS value to the RHS variable.\n",
    "for ex.: a variable cat with value 4 is give if we want to update variable value we can use assignment operator to update i.e assign new value to the variable cat : cat =8\n",
    "\n",
    "\n"
   ]
  },
  {
   "cell_type": "markdown",
   "metadata": {},
   "source": [
    "#### 7. Identify the three blocks in this code:\n",
    "Ans:\n",
    "\n",
    "##### spam = 0\n",
    "\n",
    "    First block:\n",
    "    \n",
    "##### if spam == 10:\n",
    "##### print(&#39;eggs&#39;)\n",
    "\n",
    "    Second Block:\n",
    "    \n",
    "##### if spam &gt; 5:\n",
    "##### print(&#39;bacon&#39;)\n",
    "\n",
    "    Third Block:\n",
    "    \n",
    "##### else:\n",
    "##### print(&#39;ham&#39;)\n",
    "##### print(&#39;spam&#39;)\n",
    "##### print(&#39;spam&#39;)"
   ]
  },
  {
   "cell_type": "markdown",
   "metadata": {},
   "source": [
    "#### 8. Write code that prints Hello if 1 is stored in spam, prints Howdy if 2 is stored in spam, and prints Greetings! if anything else is stored in spam.\n",
    "\n",
    "Ans: "
   ]
  },
  {
   "cell_type": "markdown",
   "metadata": {},
   "source": [
    "##### if spam==1 :\n",
    "#####     print(\"Hello\")\n",
    "##### elif spam == 2:\n",
    "#####     print(Hodwdy)\n",
    "##### else:\n",
    "#####     print(\"Gretings!\")"
   ]
  },
  {
   "cell_type": "markdown",
   "metadata": {},
   "source": [
    "#### 9.If your programme is stuck in an endless loop, what keys you’ll press?\n",
    "Ans:\n",
    " We can press CTRL+C key o come out of the infinte loop"
   ]
  },
  {
   "cell_type": "markdown",
   "metadata": {},
   "source": [
    "#### 10. How can you tell the difference between break and continue?\n",
    "\n",
    "Ans:\n",
    "break and continue are the two keywords can be used with loop only.\n",
    "\n",
    "1] break : when condition is true and break keyword is used , interpreter comes out of the loop and exeutes next statements after the loop\n",
    "\n",
    "2] continue : when condition is true and continue keyword is used , interpreter skips  that iteration and executs statements from the next iteration "
   ]
  },
  {
   "cell_type": "markdown",
   "metadata": {},
   "source": [
    "#### 11. In a for loop, what is the difference between range(10), range(0, 10), and range(0, 10, 1)?\n",
    "\n",
    "Ans:-\n",
    "Three parameters can be given to the range() function: initial index, final index ,and diffrence betwen two values in given range\n",
    "\n",
    "1] range(10): it gives rannge upto 10 i.e. last number that will taken in count is 9 and as initial count is not given range starts from zero.\n",
    "\n",
    "2] range(0,10): it gives range of number that starts from 0 and ends on 9,as third parameter is not given by default difference between two consecative number is 1.\n",
    "\n",
    "3]range(0,10,1): Count will start from 0 upto 9 with diference between two consecutive number 1."
   ]
  },
  {
   "cell_type": "markdown",
   "metadata": {},
   "source": [
    "#### 12. Write a short program that prints the numbers 1 to 10 using a for loop. Then write an equivalent program that prints the numbers 1 to 10 using a while loop.\n",
    "Ans:-"
   ]
  },
  {
   "cell_type": "code",
   "execution_count": 10,
   "metadata": {},
   "outputs": [
    {
     "name": "stdout",
     "output_type": "stream",
     "text": [
      "using for loop:\n",
      "\n",
      "1\n",
      "2\n",
      "3\n",
      "4\n",
      "5\n",
      "6\n",
      "7\n",
      "8\n",
      "9\n",
      "10\n",
      "\n",
      " using while loop\n",
      "\n",
      "1\n",
      "2\n",
      "3\n",
      "4\n",
      "5\n",
      "6\n",
      "7\n",
      "8\n",
      "9\n",
      "10\n"
     ]
    }
   ],
   "source": [
    "# For Loop:\n",
    "\n",
    "print(\"using for loop:\\n\")\n",
    "for i in range(1,11):\n",
    "    print(i)\n",
    "\n",
    "    \n",
    "#While Loop:\n",
    "    \n",
    "print(\"\\n using while loop\\n\")\n",
    "\n",
    "i=1\n",
    "while i<=10:\n",
    "    print(i)\n",
    "    i+=1\n",
    "    "
   ]
  },
  {
   "cell_type": "markdown",
   "metadata": {},
   "source": [
    "#### 13. If you had a function named bacon() inside a module named spam, how would you call it after importing spam?\n",
    "\n",
    "Ans: \n",
    "\n",
    "call a function in module :  spam.bacon()"
   ]
  }
 ],
 "metadata": {
  "kernelspec": {
   "display_name": "Python 3",
   "language": "python",
   "name": "python3"
  },
  "language_info": {
   "codemirror_mode": {
    "name": "ipython",
    "version": 3
   },
   "file_extension": ".py",
   "mimetype": "text/x-python",
   "name": "python",
   "nbconvert_exporter": "python",
   "pygments_lexer": "ipython3",
   "version": "3.8.3"
  }
 },
 "nbformat": 4,
 "nbformat_minor": 4
}
