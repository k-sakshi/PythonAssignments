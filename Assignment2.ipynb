{
 "cells": [
  {
   "cell_type": "markdown",
   "metadata": {},
   "source": [
    "## Python Assignment"
   ]
  },
  {
   "cell_type": "markdown",
   "metadata": {},
   "source": [
    "#### 1.What are the two values of the Boolean data type? How do you write them?\n",
    "\n",
    "Ans: \n",
    "Two types of boolean data types are \n",
    "\n",
    "#### 2. What are the three different types of Boolean operators?\n",
    "#### 3. Make a list of each Boolean operator&#39;s truth tables (i.e. every possible combination of Boolean values for the operator and what it evaluate ).\n",
    "#### 4. What are the values of the following expressions?1\n",
    "Ans:-\n",
    "##### 1) (5 &gt; 4) and (3 == 5) ---> \n",
    "##### not (5 &gt; 4)\n",
    "##### (5 &gt; 4) or (3 == 5)\n",
    "##### not ((5 &gt; 4) or (3 == 5))\n",
    "##### (True and True) and (True == False)\n",
    "##### (not False) or (not True)\n",
    "#### 5. What are the six comparison operators?\n",
    "#### 6. How do you tell the difference between the equal to and assignment operators?Describe a condition and when you would use one.\n",
    "#### 7. Identify the three blocks in this code:\n",
    "##### spam = 0\n",
    "##### if spam == 10:\n",
    "##### print(&#39;eggs&#39;)\n",
    "##### if spam &gt; 5:\n",
    "##### print(&#39;bacon&#39;)\n",
    "##### else:\n",
    "##### print(&#39;ham&#39;)\n",
    "##### print(&#39;spam&#39;)\n",
    "##### print(&#39;spam&#39;)\n",
    "#### 8. Write code that prints Hello if 1 is stored in spam, prints Howdy if 2 is stored in spam, and prints Greetings! if anything else is stored in spam.\n",
    "#### 9.If your programme is stuck in an endless loop, what keys you’ll press?\n",
    "#### 10. How can you tell the difference between break and continue?\n",
    "#### 11. In a for loop, what is the difference between range(10), range(0, 10), and range(0, 10, 1)?\n",
    "#### 12. Write a short program that prints the numbers 1 to 10 using a for loop. Then write an equivalent program that prints the numbers 1 to 10 using a while loop.\n",
    "#### 13. If you had a function named bacon() inside a module named spam, how would you call it after importing spam?"
   ]
  }
 ],
 "metadata": {
  "kernelspec": {
   "display_name": "Python 3",
   "language": "python",
   "name": "python3"
  },
  "language_info": {
   "codemirror_mode": {
    "name": "ipython",
    "version": 3
   },
   "file_extension": ".py",
   "mimetype": "text/x-python",
   "name": "python",
   "nbconvert_exporter": "python",
   "pygments_lexer": "ipython3",
   "version": "3.8.3"
  }
 },
 "nbformat": 4,
 "nbformat_minor": 4
}
